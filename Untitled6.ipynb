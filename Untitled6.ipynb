import random
import uuid
import hashlib
import pandas as pd
import matplotlib.pyplot as plt
import mplfinance as mpf
import yfinance as yf

from IPython.display import display, clear_output, HTML, FileLink
import ipywidgets as widgets
from ipywidgets import Layout

# Optional: A dark theme injection. Uncomment to use.
def inject_custom_css():
    custom_css = """
    <style>
    body, .jp-Notebook, .widget-container, .rendered_html {
        background-color: #1a1a1a !important;
        color: #ffffff !important;
    }
    .widget-label, .widget-dropdown, .widget-inttext, .widget-button, .widget-text {
        background-color: #2c2c2c !important;
        color: #ffffff !important;
        border: 1px solid #555555 !important;
    }
    .widget-button {
        border-radius: 6px !important;
        font-weight: bold !important;
        box-shadow: 1px 1px 3px #000000;
        padding: 6px 12px;
    }
    .widget-button:hover {
        background-color: #444444 !important;
    }
    table, thead, tbody, tr, td, th {
        background-color: #1a1a1a !important;
        color: #ffffff !important;
        border: 1px solid #555555 !important;
    }
    </style>
    """
    display(HTML(custom_css))

# inject_custom_css()  # Uncomment to enable the dark theme

class AdvancedShareMarketApp:
    def __init__(self):
        # 1) Stock Data Setup (Company names, not actual tickers)
        self.base_symbols_unsorted = [
            "Apple Inc.", "Alphabet Inc. (Class A)", "Amazon.com, Inc.", "Tesla, Inc.", 
            "Microsoft Corporation", "Netflix, Inc.", "Accenture plc", "NVIDIA Corporation", 
            "Alibaba Group Holding Limited", "Intel Corporation", "Oracle Corporation",
            "International Business Machines Corporation", "Adobe Inc.",
            "PayPal Holdings, Inc.", "Shopify Inc.", "Twitter, Inc.", "JPMorgan Chase & Co.", 
            "Uber Technologies, Inc.", "Lyft, Inc.", "Lockheed Martin Corporation", 
            "The Procter & Gamble Company", "Infosys Limited", "Tata Motors Limited", 
            "The Coca-Cola Company", "McDonald's Corporation", "Meta Platforms, Inc. (Facebook)", 
            "QUALCOMM Incorporated", "Starbucks Corporation", "The Walt Disney Company", 
            "The Boeing Company", "PepsiCo, Inc.", "NIKE, Inc.", "Micron Technology, Inc.",
            "Cisco Systems, Inc.", "Ford Motor Company", "Honda Motor Co., Ltd.", 
            "Toyota Motor Corporation", "Sony Group Corporation", "Koninklijke Philips N.V.", 
            "SAP SE", "Siemens AG (ADR)", "AB Volvo (ADR)", "Deutsche Post AG (ADR)", 
            "United Parcel Service, Inc.", "FedEx Corporation", "Dow Inc.", "3M Company", 
            "Honeywell International Inc.", "Amgen Inc.", "Pfizer Inc.", "Moderna, Inc.", 
            "Spotify Technology S.A.", "Snap Inc.", "Roku, Inc.", "Zoom Video Communications, Inc.", 
            "Block, Inc. (formerly Square)", "Intuit Inc.", "eBay Inc.", "Delta Air Lines, Inc.", 
            "United Airlines Holdings, Inc.", "Hilton Worldwide Holdings Inc.", 
            "Marriott International, Inc.", "Exxon Mobil Corporation", "Chevron Corporation", 
            "Royal Dutch Shell plc (Class A)", "BP p.l.c.", "Tata Consultancy Services Limited", 
            "Wipro Limited", "Reliance Industries Limited", "Bharti Airtel Limited", "ITC Limited", 
            "Hindustan Aeronautics Limited", "HDFC Bank Limited", "ICICI Bank Limited", 
            "Kotak Mahindra Bank Limited", "Oil and Natural Gas Corporation", "Coal India Limited", 
            "Bajaj Finance Limited", "Maruti Suzuki India Limited", "UltraTech Cement Limited", 
            "Asian Paints Limited", "Dabur India Limited", "Colgate-Palmolive (India) Limited", 
            "Pidilite Industries Limited", "Britannia Industries Limited", "Nestlé India Limited", 
            "ABB India Limited", "Torrent Pharmaceuticals Limited", 
            "Crompton Greaves Consumer Electricals Limited", "Havells India Limited", 
            "Glenmark Pharmaceuticals Limited", "Apollo Hospitals Enterprise Limited", 
            "Dr. Reddy's Laboratories Limited", "Sun Pharmaceutical Industries Limited", 
            "Cipla Limited", "Biocon Limited", "Zomato Limited", 
            "FSN E-Commerce Ventures Limited (Nykaa)", "One97 Communications Limited (Paytm)", 
            "Life Insurance Corporation of India", "UBS Group AG", "Credit Suisse Group AG", 
            "Barclays plc", "HSBC Holdings plc", "Deutsche Bank AG", "Citigroup Inc.", 
            "The Goldman Sachs Group, Inc.", "Morgan Stanley"
        ]
        self.sorted_symbols = sorted(list(set(self.base_symbols_unsorted)))[:100]

        # Random initial prices
        self.prices = {sym: round(random.uniform(20, 4000), 2) for sym in self.sorted_symbols}
        self.wallet = 100000.0
        self.portfolio = {sym: 0 for sym in self.prices}

        # Sectors
        self.possible_sectors = ["Tech", "Finance", "Healthcare", "Energy", "Consumer",
                                 "Industrial", "Communication", "Utilities", "RealEstate", "Materials"]
        self.sectors = {symbol: random.choice(self.possible_sectors) for symbol in self.prices}

        # Keep track of days and portfolio value over time
        self.day_count = 0
        self.history_values = []
        self.old_prices = self.prices.copy()

        # Secure Login Setup
        self.users = {}  # { email: {salt, hashed_password} }
        self.current_user = None

        # 2) Additional Features
        self.watchlist = set()       # For watchlist
        self.transactions = []       # Transaction log: each buy/sell appended
        self.portfolio_history = []  # Store daily portfolio values for line chart

        # 3) Set up the UI
        self.setup_widgets()
        self.build_ui()

    # ------------------ Secure Login Functions ------------------
    def register_user(self, email, password):
        if email in self.users:
            return "User already exists."
        salt = uuid.uuid4().hex
        hashed_password = hashlib.sha256((password + salt).encode()).hexdigest()
        self.users[email] = {'salt': salt, 'hashed_password': hashed_password}
        return f"User '{email}' registered successfully."

    def login_user(self, email, password):
        if email not in self.users:
            return "User does not exist."
        user = self.users[email]
        hashed_password = hashlib.sha256((password + user['salt']).encode()).hexdigest()
        if hashed_password == user['hashed_password']:
            self.current_user = email
            return f"Login successful. Welcome, {email}!"
        return "Incorrect password."

    # ------------------ Watchlist Feature ------------------
    def add_to_watchlist(self, _):
        symbol = self.watchlist_dropdown.value
        self.watchlist.add(symbol)
        with self.watchlist_output:
            clear_output()
            print("Current Watchlist:")
            for w in sorted(self.watchlist):
                print(f"- {w}")

    def remove_from_watchlist(self, _):
        symbol = self.watchlist_dropdown.value
        if symbol in self.watchlist:
            self.watchlist.remove(symbol)
        with self.watchlist_output:
            clear_output()
            print("Current Watchlist:")
            for w in sorted(self.watchlist):
                print(f"- {w}")

    # ------------------ Transaction Log ------------------
    def log_transaction(self, action_type, symbol, shares, price):
        # action_type: "BUY" or "SELL"
        total = round(shares * price, 2)
        self.transactions.append({
            "Type": action_type,
            "Symbol": symbol,
            "Shares": shares,
            "Price": price,
            "Total": total
        })

    def show_transactions(self, _):
        self.transactions_output.clear_output()
        with self.transactions_output:
            if not self.transactions:
                print("No transactions recorded yet.")
                return
            df = pd.DataFrame(self.transactions)
            display(df.style)

    # ------------------ Partial Search Feature ------------------
    def search_stock(self, _):
        self.search_output.clear_output()
        query = self.search_input.value.strip().lower()
        if not query:
            return
        with self.search_output:
            matches = [s for s in self.sorted_symbols if query in s.lower()]
            if matches:
                print("Search Matches:")
                for m in matches:
                    print(f"- {m}")
            else:
                print("No matches found.")

    # ------------------ Price & Portfolio Tracking ------------------
    def update_portfolio_history(self):
        # Called each day or after changes
        value = self.calculate_portfolio_value()
        self.portfolio_history.append(value)

    def show_portfolio_history(self, _):
        # Show a line chart of portfolio value over time
        self.analytics_output.clear_output()
        with self.analytics_output:
            if not self.portfolio_history:
                print("No portfolio history yet.")
                return
            plt.figure(figsize=(6,3))
            plt.plot(self.portfolio_history, marker="o", color="cyan")
            plt.title("Portfolio Value Over Time")
            plt.xlabel("Update #")
            plt.ylabel("Value (₹)")
            plt.grid(True)
            plt.tight_layout()
            plt.show()

    # ------------------ Widget Setup ------------------
    def setup_widgets(self):
        # 1) Auth
        self.email_input = widgets.Text(placeholder="Email", description="Email:", layout=Layout(width="250px"))
        self.pass_input = widgets.Password(placeholder="Password", description="Password:", layout=Layout(width="250px"))
        self.register_btn = widgets.Button(description="Register", button_style="success", icon="user-plus")
        self.login_btn = widgets.Button(description="Login", button_style="info", icon="sign-in")
        self.auth_output = widgets.Output(layout=Layout(border="1px solid #666", margin="5px", padding="5px"))
        self.register_btn.on_click(self.on_register_click)
        self.login_btn.on_click(self.on_login_click)

        # 2) Trading
        self.buy_symbol_dropdown = widgets.Dropdown(options=self.sorted_symbols, description="Buy Symbol:", layout=Layout(width="180px"))
        self.buy_shares = widgets.IntText(description="Buy Shares:", layout=Layout(width="130px"))
        self.buy_button = widgets.Button(description="Buy", button_style="success", icon="plus")

        self.sell_symbol_dropdown = widgets.Dropdown(options=self.sorted_symbols, description="Sell Symbol:", layout=Layout(width="180px"))
        self.sell_shares = widgets.IntText(description="Sell Shares:", layout=Layout(width="130px"))
        self.sell_button = widgets.Button(description="Sell", button_style="warning", icon="minus")

        self.update_button = widgets.Button(description="Next Day", button_style="info", icon="refresh", layout=Layout(width="120px"))

        self.buy_button.on_click(self.buy_shares_action)
        self.sell_button.on_click(self.sell_shares_action)
        self.update_button.on_click(self.next_day_action)

        # 3) Analytics
        self.sector_dropdown = widgets.Dropdown(options=["All"] + self.possible_sectors, description="Sector:", layout=Layout(width="160px"))
        self.sector_button = widgets.Button(description="Filter", button_style="info", icon="search", layout=Layout(width="90px"))
        self.download_button = widgets.Button(description="CSV Export", button_style="primary", icon="download", layout=Layout(width="120px"))
        self.bar_button = widgets.Button(description="Bar: Shares", button_style="warning", layout=Layout(width="130px"))
        self.pie_button = widgets.Button(description="Pie: Value", button_style="warning", layout=Layout(width="130px"))
        self.history_button = widgets.Button(description="Portfolio History", button_style="info", icon="line-chart")

        self.sector_button.on_click(self.filter_sector_action)
        self.download_button.on_click(self.download_csv_action)
        self.bar_button.on_click(self.show_sector_bar_chart)
        self.pie_button.on_click(self.show_sector_pie_chart)
        self.history_button.on_click(self.show_portfolio_history)

        # 4) Additional Feature: Watchlist
        self.watchlist_dropdown = widgets.Dropdown(options=self.sorted_symbols, description="Watchlist:", layout=Layout(width="180px"))
        self.watchlist_add_btn = widgets.Button(description="Add", button_style="success", icon="plus")
        self.watchlist_remove_btn = widgets.Button(description="Remove", button_style="warning", icon="minus")
        self.watchlist_output = widgets.Output(layout=Layout(border="1px solid #666", margin="5px", padding="5px"))

        self.watchlist_add_btn.on_click(self.add_to_watchlist)
        self.watchlist_remove_btn.on_click(self.remove_from_watchlist)

        # 5) Transactions
        self.transactions_btn = widgets.Button(description="Transactions Log", button_style="info", icon="list")
        self.transactions_output = widgets.Output(layout=Layout(border="1px solid #666", margin="5px", padding="5px"))
        self.transactions_btn.on_click(self.show_transactions)

        # 6) Partial Search
        self.search_input = widgets.Text(placeholder="Type partial stock name", description="Search:", layout=Layout(width="200px"))
        self.search_btn = widgets.Button(description="Find", button_style="info", icon="search")
        self.search_output = widgets.Output(layout=Layout(border="1px solid #666", margin="5px", padding="5px"))

        self.search_btn.on_click(self.search_stock)

        # 7) Output areas
        self.portfolio_output = widgets.Output(layout=Layout(border="1px solid #666", margin="5px", padding="5px"))
        self.chart_output = widgets.Output(layout=Layout(border="1px solid #666", margin="5px", padding="5px"))
        self.analytics_output = widgets.Output(layout=Layout(border="1px solid #666", margin="5px", padding="5px"))

    # ------------------ Build UI Layout ------------------
    def build_ui(self):
        header = widgets.HTML("<h2>Vertical Share Market Simulation (Advanced)</h2>")

        # Auth Section
        auth_box = widgets.VBox([
            widgets.HTML("<b>User Registration & Login</b>"),
            widgets.VBox([
                self.email_input,
                self.pass_input,
                widgets.HBox([self.register_btn, self.login_btn]),
                self.auth_output
            ], layout=Layout(margin="5px"))
        ], layout=Layout(border="1px solid #aaa", padding="10px", margin="5px"))

        # Trading Section
        trading_box = widgets.VBox([
            widgets.HTML("<b>Trading Controls</b>"),
            widgets.HBox([self.buy_symbol_dropdown, self.buy_shares, self.buy_button]),
            widgets.HBox([self.sell_symbol_dropdown, self.sell_shares, self.sell_button]),
            self.update_button
        ], layout=Layout(border="1px solid #aaa", padding="10px", margin="5px"))

        # Watchlist Section
        watchlist_box = widgets.VBox([
            widgets.HTML("<b>Watchlist</b>"),
            widgets.HBox([self.watchlist_dropdown, self.watchlist_add_btn, self.watchlist_remove_btn]),
            self.watchlist_output
        ], layout=Layout(border="1px solid #aaa", padding="10px", margin="5px"))

        # Transactions Section
        transactions_box = widgets.VBox([
            widgets.HTML("<b>Transactions</b>"),
            self.transactions_btn,
            self.transactions_output
        ], layout=Layout(border="1px solid #aaa", padding="10px", margin="5px"))

        # Partial Search Section
        search_box = widgets.VBox([
            widgets.HTML("<b>Partial Search</b>"),
            widgets.HBox([self.search_input, self.search_btn]),
            self.search_output
        ], layout=Layout(border="1px solid #aaa", padding="10px", margin="5px"))

        # Portfolio & Chart
        portfolio_chart_box = widgets.VBox([
            widgets.HTML("<b>Portfolio & Real Stock Chart</b>"),
            self.portfolio_output,
            self.chart_output
        ], layout=Layout(border="1px solid #aaa", padding="10px", margin="5px"))

        # Analytics
        analytics_box = widgets.VBox([
            widgets.HTML("<b>Analytics & Management</b>"),
            widgets.HBox([self.sector_dropdown, self.sector_button, self.download_button]),
            widgets.HBox([self.bar_button, self.pie_button, self.history_button]),
            self.analytics_output
        ], layout=Layout(border="1px solid #aaa", padding="10px", margin="5px"))

        # Main vertical layout
        self.main_layout = widgets.VBox([
            header,
            auth_box,
            trading_box,
            watchlist_box,
            transactions_box,
            search_box,
            portfolio_chart_box,
            analytics_box
        ])

    def display_ui(self):
        display(self.main_layout)
        # Show initial trading info
        self.show_trading_info()

    # ------------------ Authentication Handlers ------------------
    def on_register_click(self, _):
        with self.auth_output:
            clear_output()
            email = self.email_input.value.strip()
            password = self.pass_input.value.strip()
            msg = self.register_user(email, password)
            print(msg)

    def on_login_click(self, _):
        with self.auth_output:
            clear_output()
            email = self.email_input.value.strip()
            password = self.pass_input.value.strip()
            msg = self.login_user(email, password)
            print(msg)

    # ------------------ Trading Actions ------------------
    def buy_shares_action(self, _):
        if self.current_user is None:
            with self.portfolio_output:
                print("Please log in first.")
            return
        sym = self.buy_symbol_dropdown.value
        shares = self.buy_shares.value
        if shares <= 0:
            self._append_text(self.portfolio_output, "Invalid number of shares to buy.")
            return
        cost = self.prices[sym] * shares
        if cost <= self.wallet:
            self.wallet -= cost
            self.portfolio[sym] += shares
            self._append_text(self.portfolio_output, f"Bought {shares} shares of {sym} at ₹{self.prices[sym]:.2f} (cost ₹{cost:.2f}).")
            self.log_transaction("BUY", sym, shares, self.prices[sym])
        else:
            self._append_text(self.portfolio_output, f"Insufficient funds to buy {shares} shares of {sym}.")
        self.show_trading_info()

    def sell_shares_action(self, _):
        if self.current_user is None:
            with self.portfolio_output:
                print("Please log in first.")
            return
        sym = self.sell_symbol_dropdown.value
        shares = self.sell_shares.value
        if shares <= 0:
            self._append_text(self.portfolio_output, "Invalid number of shares to sell.")
            return
        if shares <= self.portfolio[sym]:
            revenue = self.prices[sym] * shares
            self.wallet += revenue
            self.portfolio[sym] -= shares
            self._append_text(self.portfolio_output, f"Sold {shares} shares of {sym} at ₹{self.prices[sym]:.2f} (revenue ₹{revenue:.2f}).")
            self.log_transaction("SELL", sym, shares, self.prices[sym])
        else:
            self._append_text(self.portfolio_output, f"You only hold {self.portfolio[sym]} shares of {sym}.")
        self.show_trading_info()

    def next_day_action(self, _):
        self.day_count += 1
        self.old_prices = self.prices.copy()
        # ±5% fluctuation
        for sym in self.prices:
            change = random.uniform(-0.05, 0.05)
            self.prices[sym] = round(self.prices[sym] * (1 + change), 2)
        self._append_text(self.portfolio_output, f"Day {self.day_count}: Prices updated ±5%.")
        self.show_trading_info()

    # ------------------ Portfolio & Chart ------------------
    def show_trading_info(self):
        self.portfolio_output.clear_output()
        self.chart_output.clear_output()

        # Update portfolio history
        self.update_portfolio_history()

        with self.portfolio_output:
            df = self.get_portfolio_df()
            if not df.empty:
                display(df.style)
            else:
                print("You currently hold no shares.")
            tv = self.calculate_portfolio_value()
            print(f"Wallet: ₹{self.wallet:,.2f}")
            print(f"Total Portfolio Value: ₹{tv:,.2f}")

        with self.chart_output:
            self.show_candlestick_chart()

    def show_candlestick_chart(self):
        # If user has no holdings, pick the first symbol
        ticker_to_chart = None
        for t, qty in self.portfolio.items():
            if qty > 0:
                ticker_to_chart = t
                break
        if not ticker_to_chart:
            ticker_to_chart = self.sorted_symbols[0]

        try:
            data = yf.download(ticker_to_chart, period="1mo", interval="1d", progress=False)
            if data.empty:
                print("No data available for candlestick chart.")
                return
            data.index.name = 'Date'
            mpf.plot(data, type='candle', style='yahoo', title=f"{ticker_to_chart} Candlestick (1 Month)",
                     mav=(5,10), volume=True, figsize=(8,5))
        except Exception as e:
            print(f"Error fetching data for {ticker_to_chart}: {e}")

    # ------------------ Analytics Functions ------------------
    def filter_sector_action(self, _):
        self.analytics_output.clear_output()
        sector = self.sector_dropdown.value
        with self.analytics_output:
            if sector == "All":
                syms = sorted(self.prices.keys())
            else:
                syms = sorted([s for s in self.prices if self.sectors[s] == sector])
            if not syms:
                print(f"No symbols found in sector '{sector}'.")
                return
            df = pd.DataFrame({
                "Stock": syms,
                "Sector": [self.sectors[s] for s in syms],
                "Price": [self.prices[s] for s in syms]
            })
            display(df.style)

    def download_csv_action(self, _):
        self.analytics_output.clear_output()
        with self.analytics_output:
            dfp = self.get_portfolio_df()
            fname = "portfolio.csv"
            dfp.to_csv(fname, index=False)
            print("Portfolio exported to portfolio.csv")
            display(FileLink(fname))

    def show_sector_bar_chart(self, _):
        self.analytics_output.clear_output()
        with self.analytics_output:
            dfp = self.get_portfolio_df()
            if dfp.empty:
                print("No holdings to display.")
                return
            shares_group = dfp.groupby("Sector")["Shares Owned"].sum()
            plt.figure(figsize=(6,4))
            shares_group.plot(kind="bar", color="skyblue")
            plt.title("Shares Owned by Sector")
            plt.xlabel("Sector")
            plt.ylabel("Total Shares")
            plt.xticks(rotation=45)
            plt.tight_layout()
            plt.show()

    def show_sector_pie_chart(self, _):
        self.analytics_output.clear_output()
        with self.analytics_output:
            dfp = self.get_portfolio_df()
            if dfp.empty:
                print("No holdings to display.")
                return
            val_group = dfp.groupby("Sector")["Holding Value"].sum()
            plt.figure(figsize=(5,5))
            plt.pie(val_group, labels=val_group.index, autopct="%1.1f%%", startangle=140)
            plt.title("Portfolio Value by Sector")
            plt.axis("equal")
            plt.tight_layout()
            plt.show()

    # ------------------ Helpers ------------------
    def calculate_portfolio_value(self):
        holdings_value = sum(self.prices[sym] * qty for sym, qty in self.portfolio.items())
        return self.wallet + holdings_value

    def get_portfolio_df(self):
        data = {
            "Stock": [],
            "Shares Owned": [],
            "Current Price": [],
            "Holding Value": [],
            "Sector": []
        }
        for sym in sorted(self.portfolio.keys()):
            qty = self.portfolio[sym]
            if qty > 0:
                data["Stock"].append(sym)
                data["Shares Owned"].append(qty)
                data["Current Price"].append(self.prices[sym])
                data["Holding Value"].append(round(self.prices[sym]*qty, 2))
                data["Sector"].append(self.sectors[sym])
        return pd.DataFrame(data)

    def _append_text(self, out_widget, message):
        with out_widget:
            print(message)

# ------------------ Run the Enhanced Application ------------------
def run_market_app():
    clear_output()
    print("Launching Share Market App (Advanced)...")
    app = AdvancedShareMarketApp()
    app.display_ui()
